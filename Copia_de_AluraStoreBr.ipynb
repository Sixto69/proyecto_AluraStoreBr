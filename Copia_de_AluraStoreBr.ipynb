{
  "nbformat": 4,
  "nbformat_minor": 0,
  "metadata": {
    "colab": {
      "provenance": [],
      "include_colab_link": true
    },
    "kernelspec": {
      "name": "python3",
      "display_name": "Python 3"
    },
    "language_info": {
      "name": "python"
    }
  },
  "cells": [
    {
      "cell_type": "markdown",
      "metadata": {
        "id": "view-in-github",
        "colab_type": "text"
      },
      "source": [
        "<a href=\"https://colab.research.google.com/github/Sixto69/Anayamaraya.github.io/blob/main/Copia_de_AluraStoreBr.ipynb\" target=\"_parent\"><img src=\"https://colab.research.google.com/assets/colab-badge.svg\" alt=\"Open In Colab\"/></a>"
      ]
    },
    {
      "cell_type": "markdown",
      "source": [
        "### Importação dos dados\n",
        "\n"
      ],
      "metadata": {
        "id": "RhEdWd9YUR6H"
      }
    },
    {
      "cell_type": "code",
      "execution_count": null,
      "metadata": {
        "colab": {
          "base_uri": "https://localhost:8080/",
          "height": 206
        },
        "id": "T3EvaeQ_INIL",
        "outputId": "7194bc65-372c-47e6-cb47-d4bfc9952c91"
      },
      "outputs": [
        {
          "output_type": "execute_result",
          "data": {
            "text/plain": [
              "               Produto Categoria do Produto    Preço      Frete  \\\n",
              "0          Lava louças     eletrodomesticos  1446.46  74.604083   \n",
              "1             Cama box               moveis   631.70  33.919251   \n",
              "2     Bola de basquete      esporte e lazer    31.54   0.000000   \n",
              "3  Modelagem preditiva               livros    76.93   1.680730   \n",
              "4       Fone de ouvido          eletronicos   185.14   7.442587   \n",
              "\n",
              "  Data da Compra        Vendedor Local da compra  Avaliação da compra  \\\n",
              "0     11/11/2022    Rafael Costa              SP                    4   \n",
              "1     03/01/2020    Thiago Silva              GO                    5   \n",
              "2     25/12/2022   Larissa Alves              MG                    5   \n",
              "3     23/11/2021  Lucas Oliveira              MG                    3   \n",
              "4     25/04/2022   Bianca Santos              SP                    4   \n",
              "\n",
              "  Tipo de pagamento  Quantidade de parcelas    lat    lon  \n",
              "0    cartao_credito                       3 -22.19 -48.79  \n",
              "1    cartao_credito                       2 -15.98 -49.86  \n",
              "2            boleto                       1 -18.10 -44.38  \n",
              "3            boleto                       1 -18.10 -44.38  \n",
              "4    cartao_credito                       7 -22.19 -48.79  "
            ],
            "text/html": [
              "\n",
              "  <div id=\"df-d0d88632-0126-4be0-89a9-a54ed12d6c23\" class=\"colab-df-container\">\n",
              "    <div>\n",
              "<style scoped>\n",
              "    .dataframe tbody tr th:only-of-type {\n",
              "        vertical-align: middle;\n",
              "    }\n",
              "\n",
              "    .dataframe tbody tr th {\n",
              "        vertical-align: top;\n",
              "    }\n",
              "\n",
              "    .dataframe thead th {\n",
              "        text-align: right;\n",
              "    }\n",
              "</style>\n",
              "<table border=\"1\" class=\"dataframe\">\n",
              "  <thead>\n",
              "    <tr style=\"text-align: right;\">\n",
              "      <th></th>\n",
              "      <th>Produto</th>\n",
              "      <th>Categoria do Produto</th>\n",
              "      <th>Preço</th>\n",
              "      <th>Frete</th>\n",
              "      <th>Data da Compra</th>\n",
              "      <th>Vendedor</th>\n",
              "      <th>Local da compra</th>\n",
              "      <th>Avaliação da compra</th>\n",
              "      <th>Tipo de pagamento</th>\n",
              "      <th>Quantidade de parcelas</th>\n",
              "      <th>lat</th>\n",
              "      <th>lon</th>\n",
              "    </tr>\n",
              "  </thead>\n",
              "  <tbody>\n",
              "    <tr>\n",
              "      <th>0</th>\n",
              "      <td>Lava louças</td>\n",
              "      <td>eletrodomesticos</td>\n",
              "      <td>1446.46</td>\n",
              "      <td>74.604083</td>\n",
              "      <td>11/11/2022</td>\n",
              "      <td>Rafael Costa</td>\n",
              "      <td>SP</td>\n",
              "      <td>4</td>\n",
              "      <td>cartao_credito</td>\n",
              "      <td>3</td>\n",
              "      <td>-22.19</td>\n",
              "      <td>-48.79</td>\n",
              "    </tr>\n",
              "    <tr>\n",
              "      <th>1</th>\n",
              "      <td>Cama box</td>\n",
              "      <td>moveis</td>\n",
              "      <td>631.70</td>\n",
              "      <td>33.919251</td>\n",
              "      <td>03/01/2020</td>\n",
              "      <td>Thiago Silva</td>\n",
              "      <td>GO</td>\n",
              "      <td>5</td>\n",
              "      <td>cartao_credito</td>\n",
              "      <td>2</td>\n",
              "      <td>-15.98</td>\n",
              "      <td>-49.86</td>\n",
              "    </tr>\n",
              "    <tr>\n",
              "      <th>2</th>\n",
              "      <td>Bola de basquete</td>\n",
              "      <td>esporte e lazer</td>\n",
              "      <td>31.54</td>\n",
              "      <td>0.000000</td>\n",
              "      <td>25/12/2022</td>\n",
              "      <td>Larissa Alves</td>\n",
              "      <td>MG</td>\n",
              "      <td>5</td>\n",
              "      <td>boleto</td>\n",
              "      <td>1</td>\n",
              "      <td>-18.10</td>\n",
              "      <td>-44.38</td>\n",
              "    </tr>\n",
              "    <tr>\n",
              "      <th>3</th>\n",
              "      <td>Modelagem preditiva</td>\n",
              "      <td>livros</td>\n",
              "      <td>76.93</td>\n",
              "      <td>1.680730</td>\n",
              "      <td>23/11/2021</td>\n",
              "      <td>Lucas Oliveira</td>\n",
              "      <td>MG</td>\n",
              "      <td>3</td>\n",
              "      <td>boleto</td>\n",
              "      <td>1</td>\n",
              "      <td>-18.10</td>\n",
              "      <td>-44.38</td>\n",
              "    </tr>\n",
              "    <tr>\n",
              "      <th>4</th>\n",
              "      <td>Fone de ouvido</td>\n",
              "      <td>eletronicos</td>\n",
              "      <td>185.14</td>\n",
              "      <td>7.442587</td>\n",
              "      <td>25/04/2022</td>\n",
              "      <td>Bianca Santos</td>\n",
              "      <td>SP</td>\n",
              "      <td>4</td>\n",
              "      <td>cartao_credito</td>\n",
              "      <td>7</td>\n",
              "      <td>-22.19</td>\n",
              "      <td>-48.79</td>\n",
              "    </tr>\n",
              "  </tbody>\n",
              "</table>\n",
              "</div>\n",
              "    <div class=\"colab-df-buttons\">\n",
              "\n",
              "  <div class=\"colab-df-container\">\n",
              "    <button class=\"colab-df-convert\" onclick=\"convertToInteractive('df-d0d88632-0126-4be0-89a9-a54ed12d6c23')\"\n",
              "            title=\"Convert this dataframe to an interactive table.\"\n",
              "            style=\"display:none;\">\n",
              "\n",
              "  <svg xmlns=\"http://www.w3.org/2000/svg\" height=\"24px\" viewBox=\"0 -960 960 960\">\n",
              "    <path d=\"M120-120v-720h720v720H120Zm60-500h600v-160H180v160Zm220 220h160v-160H400v160Zm0 220h160v-160H400v160ZM180-400h160v-160H180v160Zm440 0h160v-160H620v160ZM180-180h160v-160H180v160Zm440 0h160v-160H620v160Z\"/>\n",
              "  </svg>\n",
              "    </button>\n",
              "\n",
              "  <style>\n",
              "    .colab-df-container {\n",
              "      display:flex;\n",
              "      gap: 12px;\n",
              "    }\n",
              "\n",
              "    .colab-df-convert {\n",
              "      background-color: #E8F0FE;\n",
              "      border: none;\n",
              "      border-radius: 50%;\n",
              "      cursor: pointer;\n",
              "      display: none;\n",
              "      fill: #1967D2;\n",
              "      height: 32px;\n",
              "      padding: 0 0 0 0;\n",
              "      width: 32px;\n",
              "    }\n",
              "\n",
              "    .colab-df-convert:hover {\n",
              "      background-color: #E2EBFA;\n",
              "      box-shadow: 0px 1px 2px rgba(60, 64, 67, 0.3), 0px 1px 3px 1px rgba(60, 64, 67, 0.15);\n",
              "      fill: #174EA6;\n",
              "    }\n",
              "\n",
              "    .colab-df-buttons div {\n",
              "      margin-bottom: 4px;\n",
              "    }\n",
              "\n",
              "    [theme=dark] .colab-df-convert {\n",
              "      background-color: #3B4455;\n",
              "      fill: #D2E3FC;\n",
              "    }\n",
              "\n",
              "    [theme=dark] .colab-df-convert:hover {\n",
              "      background-color: #434B5C;\n",
              "      box-shadow: 0px 1px 3px 1px rgba(0, 0, 0, 0.15);\n",
              "      filter: drop-shadow(0px 1px 2px rgba(0, 0, 0, 0.3));\n",
              "      fill: #FFFFFF;\n",
              "    }\n",
              "  </style>\n",
              "\n",
              "    <script>\n",
              "      const buttonEl =\n",
              "        document.querySelector('#df-d0d88632-0126-4be0-89a9-a54ed12d6c23 button.colab-df-convert');\n",
              "      buttonEl.style.display =\n",
              "        google.colab.kernel.accessAllowed ? 'block' : 'none';\n",
              "\n",
              "      async function convertToInteractive(key) {\n",
              "        const element = document.querySelector('#df-d0d88632-0126-4be0-89a9-a54ed12d6c23');\n",
              "        const dataTable =\n",
              "          await google.colab.kernel.invokeFunction('convertToInteractive',\n",
              "                                                    [key], {});\n",
              "        if (!dataTable) return;\n",
              "\n",
              "        const docLinkHtml = 'Like what you see? Visit the ' +\n",
              "          '<a target=\"_blank\" href=https://colab.research.google.com/notebooks/data_table.ipynb>data table notebook</a>'\n",
              "          + ' to learn more about interactive tables.';\n",
              "        element.innerHTML = '';\n",
              "        dataTable['output_type'] = 'display_data';\n",
              "        await google.colab.output.renderOutput(dataTable, element);\n",
              "        const docLink = document.createElement('div');\n",
              "        docLink.innerHTML = docLinkHtml;\n",
              "        element.appendChild(docLink);\n",
              "      }\n",
              "    </script>\n",
              "  </div>\n",
              "\n",
              "\n",
              "<div id=\"df-369cda6e-ec1c-4361-b94c-b104c1366215\">\n",
              "  <button class=\"colab-df-quickchart\" onclick=\"quickchart('df-369cda6e-ec1c-4361-b94c-b104c1366215')\"\n",
              "            title=\"Suggest charts\"\n",
              "            style=\"display:none;\">\n",
              "\n",
              "<svg xmlns=\"http://www.w3.org/2000/svg\" height=\"24px\"viewBox=\"0 0 24 24\"\n",
              "     width=\"24px\">\n",
              "    <g>\n",
              "        <path d=\"M19 3H5c-1.1 0-2 .9-2 2v14c0 1.1.9 2 2 2h14c1.1 0 2-.9 2-2V5c0-1.1-.9-2-2-2zM9 17H7v-7h2v7zm4 0h-2V7h2v10zm4 0h-2v-4h2v4z\"/>\n",
              "    </g>\n",
              "</svg>\n",
              "  </button>\n",
              "\n",
              "<style>\n",
              "  .colab-df-quickchart {\n",
              "      --bg-color: #E8F0FE;\n",
              "      --fill-color: #1967D2;\n",
              "      --hover-bg-color: #E2EBFA;\n",
              "      --hover-fill-color: #174EA6;\n",
              "      --disabled-fill-color: #AAA;\n",
              "      --disabled-bg-color: #DDD;\n",
              "  }\n",
              "\n",
              "  [theme=dark] .colab-df-quickchart {\n",
              "      --bg-color: #3B4455;\n",
              "      --fill-color: #D2E3FC;\n",
              "      --hover-bg-color: #434B5C;\n",
              "      --hover-fill-color: #FFFFFF;\n",
              "      --disabled-bg-color: #3B4455;\n",
              "      --disabled-fill-color: #666;\n",
              "  }\n",
              "\n",
              "  .colab-df-quickchart {\n",
              "    background-color: var(--bg-color);\n",
              "    border: none;\n",
              "    border-radius: 50%;\n",
              "    cursor: pointer;\n",
              "    display: none;\n",
              "    fill: var(--fill-color);\n",
              "    height: 32px;\n",
              "    padding: 0;\n",
              "    width: 32px;\n",
              "  }\n",
              "\n",
              "  .colab-df-quickchart:hover {\n",
              "    background-color: var(--hover-bg-color);\n",
              "    box-shadow: 0 1px 2px rgba(60, 64, 67, 0.3), 0 1px 3px 1px rgba(60, 64, 67, 0.15);\n",
              "    fill: var(--button-hover-fill-color);\n",
              "  }\n",
              "\n",
              "  .colab-df-quickchart-complete:disabled,\n",
              "  .colab-df-quickchart-complete:disabled:hover {\n",
              "    background-color: var(--disabled-bg-color);\n",
              "    fill: var(--disabled-fill-color);\n",
              "    box-shadow: none;\n",
              "  }\n",
              "\n",
              "  .colab-df-spinner {\n",
              "    border: 2px solid var(--fill-color);\n",
              "    border-color: transparent;\n",
              "    border-bottom-color: var(--fill-color);\n",
              "    animation:\n",
              "      spin 1s steps(1) infinite;\n",
              "  }\n",
              "\n",
              "  @keyframes spin {\n",
              "    0% {\n",
              "      border-color: transparent;\n",
              "      border-bottom-color: var(--fill-color);\n",
              "      border-left-color: var(--fill-color);\n",
              "    }\n",
              "    20% {\n",
              "      border-color: transparent;\n",
              "      border-left-color: var(--fill-color);\n",
              "      border-top-color: var(--fill-color);\n",
              "    }\n",
              "    30% {\n",
              "      border-color: transparent;\n",
              "      border-left-color: var(--fill-color);\n",
              "      border-top-color: var(--fill-color);\n",
              "      border-right-color: var(--fill-color);\n",
              "    }\n",
              "    40% {\n",
              "      border-color: transparent;\n",
              "      border-right-color: var(--fill-color);\n",
              "      border-top-color: var(--fill-color);\n",
              "    }\n",
              "    60% {\n",
              "      border-color: transparent;\n",
              "      border-right-color: var(--fill-color);\n",
              "    }\n",
              "    80% {\n",
              "      border-color: transparent;\n",
              "      border-right-color: var(--fill-color);\n",
              "      border-bottom-color: var(--fill-color);\n",
              "    }\n",
              "    90% {\n",
              "      border-color: transparent;\n",
              "      border-bottom-color: var(--fill-color);\n",
              "    }\n",
              "  }\n",
              "</style>\n",
              "\n",
              "  <script>\n",
              "    async function quickchart(key) {\n",
              "      const quickchartButtonEl =\n",
              "        document.querySelector('#' + key + ' button');\n",
              "      quickchartButtonEl.disabled = true;  // To prevent multiple clicks.\n",
              "      quickchartButtonEl.classList.add('colab-df-spinner');\n",
              "      try {\n",
              "        const charts = await google.colab.kernel.invokeFunction(\n",
              "            'suggestCharts', [key], {});\n",
              "      } catch (error) {\n",
              "        console.error('Error during call to suggestCharts:', error);\n",
              "      }\n",
              "      quickchartButtonEl.classList.remove('colab-df-spinner');\n",
              "      quickchartButtonEl.classList.add('colab-df-quickchart-complete');\n",
              "    }\n",
              "    (() => {\n",
              "      let quickchartButtonEl =\n",
              "        document.querySelector('#df-369cda6e-ec1c-4361-b94c-b104c1366215 button');\n",
              "      quickchartButtonEl.style.display =\n",
              "        google.colab.kernel.accessAllowed ? 'block' : 'none';\n",
              "    })();\n",
              "  </script>\n",
              "</div>\n",
              "\n",
              "    </div>\n",
              "  </div>\n"
            ],
            "application/vnd.google.colaboratory.intrinsic+json": {
              "type": "dataframe",
              "variable_name": "dados4",
              "summary": "{\n  \"name\": \"dados4\",\n  \"rows\": 2358,\n  \"fields\": [\n    {\n      \"column\": \"Produto\",\n      \"properties\": {\n        \"dtype\": \"category\",\n        \"num_unique_values\": 51,\n        \"samples\": [\n          \"Micro-ondas\",\n          \"Jogo de panelas\",\n          \"Lavadora de roupas\"\n        ],\n        \"semantic_type\": \"\",\n        \"description\": \"\"\n      }\n    },\n    {\n      \"column\": \"Categoria do Produto\",\n      \"properties\": {\n        \"dtype\": \"category\",\n        \"num_unique_values\": 8,\n        \"samples\": [\n          \"moveis\",\n          \"instrumentos musicais\",\n          \"eletrodomesticos\"\n        ],\n        \"semantic_type\": \"\",\n        \"description\": \"\"\n      }\n    },\n    {\n      \"column\": \"Pre\\u00e7o\",\n      \"properties\": {\n        \"dtype\": \"number\",\n        \"std\": 758.3412903699577,\n        \"min\": 10.17,\n        \"max\": 3869.56,\n        \"num_unique_values\": 2308,\n        \"samples\": [\n          1253.94,\n          24.64,\n          55.14\n        ],\n        \"semantic_type\": \"\",\n        \"description\": \"\"\n      }\n    },\n    {\n      \"column\": \"Frete\",\n      \"properties\": {\n        \"dtype\": \"number\",\n        \"std\": 40.373136407711065,\n        \"min\": 0.0,\n        \"max\": 206.3255547101,\n        \"num_unique_values\": 2157,\n        \"samples\": [\n          40.6367616517,\n          56.4729494223,\n          36.2193142715\n        ],\n        \"semantic_type\": \"\",\n        \"description\": \"\"\n      }\n    },\n    {\n      \"column\": \"Data da Compra\",\n      \"properties\": {\n        \"dtype\": \"category\",\n        \"num_unique_values\": 1030,\n        \"samples\": [\n          \"12/06/2022\",\n          \"18/04/2021\",\n          \"24/12/2020\"\n        ],\n        \"semantic_type\": \"\",\n        \"description\": \"\"\n      }\n    },\n    {\n      \"column\": \"Vendedor\",\n      \"properties\": {\n        \"dtype\": \"category\",\n        \"num_unique_values\": 14,\n        \"samples\": [\n          \"Pedro Gomes\",\n          \"Mariana Ferreira\",\n          \"Rafael Costa\"\n        ],\n        \"semantic_type\": \"\",\n        \"description\": \"\"\n      }\n    },\n    {\n      \"column\": \"Local da compra\",\n      \"properties\": {\n        \"dtype\": \"category\",\n        \"num_unique_values\": 25,\n        \"samples\": [\n          \"PR\",\n          \"PB\",\n          \"SP\"\n        ],\n        \"semantic_type\": \"\",\n        \"description\": \"\"\n      }\n    },\n    {\n      \"column\": \"Avalia\\u00e7\\u00e3o da compra\",\n      \"properties\": {\n        \"dtype\": \"number\",\n        \"std\": 1,\n        \"min\": 1,\n        \"max\": 5,\n        \"num_unique_values\": 5,\n        \"samples\": [\n          5,\n          2,\n          3\n        ],\n        \"semantic_type\": \"\",\n        \"description\": \"\"\n      }\n    },\n    {\n      \"column\": \"Tipo de pagamento\",\n      \"properties\": {\n        \"dtype\": \"category\",\n        \"num_unique_values\": 4,\n        \"samples\": [\n          \"boleto\",\n          \"cartao_debito\",\n          \"cartao_credito\"\n        ],\n        \"semantic_type\": \"\",\n        \"description\": \"\"\n      }\n    },\n    {\n      \"column\": \"Quantidade de parcelas\",\n      \"properties\": {\n        \"dtype\": \"number\",\n        \"std\": 2,\n        \"min\": 1,\n        \"max\": 18,\n        \"num_unique_values\": 13,\n        \"samples\": [\n          18,\n          9,\n          3\n        ],\n        \"semantic_type\": \"\",\n        \"description\": \"\"\n      }\n    },\n    {\n      \"column\": \"lat\",\n      \"properties\": {\n        \"dtype\": \"number\",\n        \"std\": 5.433033498008136,\n        \"min\": -30.17,\n        \"max\": 1.41,\n        \"num_unique_values\": 25,\n        \"samples\": [\n          -24.89,\n          -7.28,\n          -22.19\n        ],\n        \"semantic_type\": \"\",\n        \"description\": \"\"\n      }\n    },\n    {\n      \"column\": \"lon\",\n      \"properties\": {\n        \"dtype\": \"number\",\n        \"std\": 4.159155731945776,\n        \"min\": -65.1,\n        \"max\": -36.59,\n        \"num_unique_values\": 25,\n        \"samples\": [\n          -51.55,\n          -36.72,\n          -48.79\n        ],\n        \"semantic_type\": \"\",\n        \"description\": \"\"\n      }\n    }\n  ]\n}"
            }
          },
          "metadata": {},
          "execution_count": 17
        }
      ],
      "source": [
        "import pandas as pd\n",
        "\n",
        "url = \"https://raw.githubusercontent.com/alura-es-cursos/challenge1-data-science/refs/heads/main/base-de-dados-challenge-1/loja_1.csv\"\n",
        "url2 = \"https://raw.githubusercontent.com/alura-es-cursos/challenge1-data-science/refs/heads/main/base-de-dados-challenge-1/loja_2.csv\"\n",
        "url3 = \"https://raw.githubusercontent.com/alura-es-cursos/challenge1-data-science/refs/heads/main/base-de-dados-challenge-1/loja_3.csv\"\n",
        "url4 = \"https://raw.githubusercontent.com/alura-es-cursos/challenge1-data-science/refs/heads/main/base-de-dados-challenge-1/loja_4.csv\"\n",
        "\n",
        "loja = pd.read_csv(url)\n",
        "loja2 = pd.read_csv(url2)\n",
        "loja3 = pd.read_csv(url3)\n",
        "loja4 = pd.read_csv(url4)\n",
        "\n",
        "loja.head()"
      ]
    },
    {
      "cell_type": "markdown",
      "source": [
        "#1. Análise do faturamento\n"
      ],
      "metadata": {
        "id": "X62IW3KFUIYm"
      }
    },
    {
      "cell_type": "code",
      "source": [
        "# Datos de productos\n",
        "produtos = ['Lava louças', 'Cama box', 'Bola de basquete', 'Modelagem preditiva', 'Fone de ouvido']\n",
        "precos = [1446.46, 631.70, 31.54, 76.93, 185.14]\n",
        "fretes = [74.604083, 33.919251, 0.0, 1.680730, 7.442587]\n",
        "\n",
        "# Inicializar variables\n",
        "ingreso_total = 0\n",
        "ingresos = []\n",
        "\n",
        "# Calcular el ingreso total por producto\n",
        "for i in range(len(produtos)):\n",
        "    ingreso = precos[i] + fretes[i]\n",
        "    ingresos.append(ingreso)\n",
        "    ingreso_total += ingreso\n",
        "\n",
        "print(f'Ingreso Total: R${ingreso_total:.2f}')\n",
        "\n",
        "# Calcular el ingreso promedio\n",
        "ingreso_promedio = ingreso_total / len(produtos)\n",
        "print(f'Ingreso Promedio: R${ingreso_promedio:.2f}')\n",
        "\n",
        "\n"
      ],
      "metadata": {
        "colab": {
          "base_uri": "https://localhost:8080/"
        },
        "id": "wu9LUwTA0Xxu",
        "outputId": "f00af9e6-0ee8-4090-8fb9-684d3f09f21d"
      },
      "execution_count": null,
      "outputs": [
        {
          "output_type": "stream",
          "name": "stdout",
          "text": [
            "Ingreso Total: R$2489.42\n",
            "Ingreso Promedio: R$497.88\n"
          ]
        }
      ]
    },
    {
      "cell_type": "markdown",
      "source": [
        "# 2. Vendas por Categoria\n"
      ],
      "metadata": {
        "id": "2V_vcAPzWZmR"
      }
    },
    {
      "cell_type": "code",
      "source": [],
      "metadata": {
        "id": "A34YupIuYhfF"
      },
      "execution_count": null,
      "outputs": []
    },
    {
      "cell_type": "code",
      "source": [
        "# Datos de productos\n",
        "produtos = ['Lava louças', 'Cama box', 'Bola de basquete', 'Modelagem preditiva', 'Fone de ouvido']\n",
        "categorias = ['eletrodomesticos', 'moveis', 'esporte e lazer', 'livros', 'eletronicos']\n",
        "precos = [1446.46, 631.70, 31.54, 76.93, 185.14]\n",
        "fretes = [74.604083, 33.919251, 0.0, 1.680730, 7.442587]\n",
        "\n",
        "# Inicializar un diccionario para las ventas por categoría\n",
        "ventas_por_categoria = {}\n",
        "\n",
        "# Calcular el ingreso total por producto y acumular en el diccionario\n",
        "for i in range(len(produtos)):\n",
        "    ingreso = precos[i] + fretes[i]\n",
        "    categoria = categorias[i]\n",
        "\n",
        "    if categoria in ventas_por_categoria:\n",
        "        ventas_por_categoria[categoria] += ingreso\n",
        "    else:\n",
        "        ventas_por_categoria[categoria] = ingreso\n",
        "\n",
        "# Imprimir las ventas por categoría\n",
        "for categoria, total in ventas_por_categoria.items():\n",
        "    print(f'Categoría: {categoria}, Ventas Totales: R${total:.2f}')"
      ],
      "metadata": {
        "id": "yZR6cOjXYSk1",
        "colab": {
          "base_uri": "https://localhost:8080/"
        },
        "outputId": "a7d55ee6-6154-4fab-f179-44007f121d4f"
      },
      "execution_count": null,
      "outputs": [
        {
          "output_type": "stream",
          "name": "stdout",
          "text": [
            "Categoría: eletrodomesticos, Ventas Totales: R$1521.06\n",
            "Categoría: moveis, Ventas Totales: R$665.62\n",
            "Categoría: esporte e lazer, Ventas Totales: R$31.54\n",
            "Categoría: livros, Ventas Totales: R$78.61\n",
            "Categoría: eletronicos, Ventas Totales: R$192.58\n"
          ]
        }
      ]
    },
    {
      "cell_type": "markdown",
      "source": [
        "# 3. Média de Avaliação das Lojas"
      ],
      "metadata": {
        "id": "Rq6tU_xSY3jk"
      }
    },
    {
      "cell_type": "code",
      "source": [
        "# Datos de calificaciones\n",
        "calificaciones = [4, 5, 5, 3, 4]  # Calificaciones de cada compra\n",
        "\n",
        "# Calcular la calificación promedio\n",
        "calificacion_promedio = sum(calificaciones) / len(calificaciones)\n",
        "print(f'Calificación Promedio de la Tienda: {calificacion_promedio:.2f}')"
      ],
      "metadata": {
        "id": "bh3jjjJwY5MU",
        "colab": {
          "base_uri": "https://localhost:8080/"
        },
        "outputId": "4ba42c63-e689-4604-951e-7799a168df19"
      },
      "execution_count": null,
      "outputs": [
        {
          "output_type": "stream",
          "name": "stdout",
          "text": [
            "Calificación Promedio de la Tienda: 4.20\n"
          ]
        }
      ]
    },
    {
      "cell_type": "code",
      "source": [],
      "metadata": {
        "id": "I0KkjPoTY88F"
      },
      "execution_count": null,
      "outputs": []
    },
    {
      "cell_type": "markdown",
      "source": [
        "# 4. Produtos Mais e Menos Vendidos"
      ],
      "metadata": {
        "id": "DmNp1KPBZCm-"
      }
    },
    {
      "cell_type": "code",
      "source": [
        "# Datos de ventas\n",
        "ventas = {\n",
        "    'Bolsas Classica Roxa': 150,\n",
        "    'Bolsa Intrecciato Caramelo': 120,\n",
        "    'Sapato Cetim Pink': 100,\n",
        "    'Camisa Blanca': 80,\n",
        "    'Zapatos Negros': 60,\n",
        "    'Bolsas de Tela': 30,\n",
        "    'Cinturón de Cuero': 20\n",
        "}\n",
        "\n",
        "# Producto más vendido\n",
        "producto_mas_vendido = max(ventas, key=ventas.get)\n",
        "cantidad_mas_vendida = ventas[producto_mas_vendido]\n",
        "\n",
        "# Producto menos vendido\n",
        "producto_menos_vendido = min(ventas, key=ventas.get)\n",
        "cantidad_menos_vendida = ventas[producto_menos_vendido]\n",
        "\n",
        "print(f'Producto más vendido: {producto_mas_vendido} con {cantidad_mas_vendida} unidades vendidas.')\n",
        "print(f'Producto menos vendido: {producto_menos_vendido} con {cantidad_menos_vendida} unidades vendidas.')"
      ],
      "metadata": {
        "id": "qoyjqijQZHfF",
        "colab": {
          "base_uri": "https://localhost:8080/"
        },
        "outputId": "022b485e-1514-4f57-dc49-3a5cd6e717cc"
      },
      "execution_count": null,
      "outputs": [
        {
          "output_type": "stream",
          "name": "stdout",
          "text": [
            "Producto más vendido: Bolsas Classica Roxa con 150 unidades vendidas.\n",
            "Producto menos vendido: Cinturón de Cuero con 20 unidades vendidas.\n"
          ]
        }
      ]
    },
    {
      "cell_type": "code",
      "source": [],
      "metadata": {
        "id": "0Sw3sd4IZIGW"
      },
      "execution_count": null,
      "outputs": []
    },
    {
      "cell_type": "markdown",
      "source": [
        "# 5. Frete Médio por Loja\n"
      ],
      "metadata": {
        "id": "Fl0cGi3bZKqU"
      }
    },
    {
      "cell_type": "code",
      "source": [
        "# Datos de envío por tienda\n",
        "envios = {\n",
        "    'Tienda A': [5.0, 7.5, 6.0, 8.0],\n",
        "    'Tienda B': [4.0, 5.5, 6.5],\n",
        "    'Tienda C': [10.0, 12.0, 11.5, 9.0],\n",
        "    'Tienda D': [3.0, 4.0, 2.5]\n",
        "}\n",
        "\n",
        "# Calcular el promedio de envío por tienda\n",
        "promedios_envio = {tienda: sum(costos) / len(costos) for tienda, costos in envios.items()}\n",
        "\n",
        "for tienda, promedio in promedios_envio.items():\n",
        "    print(f'Promedio de envío para {tienda}: {promedio:.2f}')"
      ],
      "metadata": {
        "id": "S2JeaCykZNy9",
        "colab": {
          "base_uri": "https://localhost:8080/"
        },
        "outputId": "e3b33241-169f-4929-fb3e-72c7f69a249a"
      },
      "execution_count": null,
      "outputs": [
        {
          "output_type": "stream",
          "name": "stdout",
          "text": [
            "Promedio de envío para Tienda A: 6.62\n",
            "Promedio de envío para Tienda B: 5.33\n",
            "Promedio de envío para Tienda C: 10.62\n",
            "Promedio de envío para Tienda D: 3.17\n"
          ]
        }
      ]
    },
    {
      "cell_type": "code",
      "source": [
        "from geopy.distance import geodesic\n",
        "\n",
        "# Datos de las tiendas\n",
        "tiendas = {\n",
        "    'Loja A': {'lat': -23.5505, 'lon': -46.6333},\n",
        "    'Loja B': {'lat': -23.5617, 'lon': -46.6250},\n",
        "    'Loja C': {'lat': -23.5432, 'lon': -46.6100}\n",
        "}\n",
        "\n",
        "# Función para calcular distancias entre tiendas\n",
        "def calcular_distancias(tiendas):\n",
        "    distancias = {}\n",
        "    nombres_tiendas = list(tiendas.keys())\n",
        "\n",
        "    for i in range(len(nombres_tiendas)):\n",
        "        for j in range(i + 1, len(nombres_tiendas)):\n",
        "            tienda1 = nombres_tiendas[i]\n",
        "            tienda2 = nombres_tiendas[j]\n",
        "            coords_tienda1 = (tiendas[tienda1]['lat'], tiendas[tienda1]['lon'])\n",
        "            coords_tienda2 = (tiendas[tienda2]['lat'], tiendas[tienda2]['lon'])\n",
        "            distancia = geodesic(coords_tienda1, coords_tienda2).kilometers\n",
        "            distancias[f\"{tienda1} - {tienda2}\"] = distancia\n",
        "\n",
        "    return distancias\n",
        "\n",
        "# Calcular distancias\n",
        "resultado_distancias = calcular_distancias(tiendas)\n",
        "\n",
        "# Imprimir resultados\n",
        "for tiendas, distancia in resultado_distancias.items():\n",
        "    print(f'Distancia entre {tiendas}: {distancia:.2f} km')"
      ],
      "metadata": {
        "id": "0tSdCie9ZQlt",
        "colab": {
          "base_uri": "https://localhost:8080/"
        },
        "outputId": "6d8b7a14-45aa-4bf0-b8af-417f9cdbc0f5"
      },
      "execution_count": null,
      "outputs": [
        {
          "output_type": "stream",
          "name": "stdout",
          "text": [
            "Distancia entre Loja A - Loja B: 1.50 km\n",
            "Distancia entre Loja A - Loja C: 2.51 km\n",
            "Distancia entre Loja B - Loja C: 2.56 km\n"
          ]
        }
      ]
    },
    {
      "cell_type": "code",
      "source": [
        "import matplotlib.pyplot as plt\n",
        "from geopy.distance import geodesic\n",
        "\n",
        "# Datos de las tiendas\n",
        "tiendas = {\n",
        "    'Loja A': {'lat': -23.5505, 'lon': -46.6333},\n",
        "    'Loja B': {'lat': -23.5617, 'lon': -46.6250},\n",
        "    'Loja C': {'lat': -23.5432, 'lon': -46.6100}\n",
        "}\n",
        "\n",
        "# Función para calcular distancias entre tiendas\n",
        "def calcular_distancias(tiendas):\n",
        "    distancias = {}\n",
        "    nombres_tiendas = list(tiendas.keys())\n",
        "\n",
        "    for i in range(len(nombres_tiendas)):\n",
        "        for j in range(i + 1, len(nombres_tiendas)):\n",
        "            tienda1 = nombres_tiendas[i]\n",
        "            tienda2 = nombres_tiendas[j]\n",
        "            coords_tienda1 = (tiendas[tienda1]['lat'], tiendas[tienda1]['lon'])\n",
        "            coords_tienda2 = (tiendas[tienda2]['lat'], tiendas[tienda2]['lon'])\n",
        "            distancia = geodesic(coords_tienda1, coords_tienda2).kilometers\n",
        "            distancias[f\"{tienda1} - {tienda2}\"] = distancia\n",
        "\n",
        "    return distancias\n",
        "\n",
        "# Calcular distancias\n",
        "resultado_distancias = calcular_distancias(tiendas)\n",
        "\n",
        "# Crear listas para el gráfico\n",
        "etiquetas = list(resultado_distancias.keys())\n",
        "distancias = list(resultado_distancias.values())\n",
        "\n",
        "# Crear el gráfico\n",
        "plt.figure(figsize=(10, 6))\n",
        "plt.barh(etiquetas, distancias, color='skyblue')\n",
        "plt.xlabel('Distancia (km)')\n",
        "plt.title('Distancias entre Tiendas')\n",
        "plt.grid(axis='x')\n",
        "\n",
        "# Mostrar el gráfico\n",
        "plt.show()\n"
      ],
      "metadata": {
        "colab": {
          "base_uri": "https://localhost:8080/",
          "height": 564
        },
        "id": "Cg5suP6Y3cnl",
        "outputId": "45b6ea35-2a4d-4048-80c9-e1e54bc10910"
      },
      "execution_count": null,
      "outputs": [
        {
          "output_type": "display_data",
          "data": {
            "text/plain": [
              "<Figure size 1000x600 with 1 Axes>"
            ],
            "image/png": "[encoded data removed]"
          },
          "metadata": {}
        }
      ]
    }
  ]
}